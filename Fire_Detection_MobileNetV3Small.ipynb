{
  "nbformat": 4,
  "nbformat_minor": 0,
  "metadata": {
    "colab": {
      "name": "Fire Detection MobileNetV3Small.ipynb",
      "provenance": [],
      "collapsed_sections": [],
      "toc_visible": true
    },
    "kernelspec": {
      "name": "python3",
      "display_name": "Python 3"
    },
    "language_info": {
      "name": "python"
    },
    "accelerator": "GPU"
  },
  "cells": [
    {
      "cell_type": "markdown",
      "metadata": {
        "id": "VAch-irat7vV"
      },
      "source": [
        "# Fire Detection - MobileNet V3\n",
        "\n",
        "**Author:** [Sayan Nath](https://github.com/sayannath/) <br>\n",
        "**Date Created:** 2021/05/01 <br>\n",
        "**Dataset Link:** [Kaggle Link](https://www.kaggle.com/phylake1337/fire-dataset) <br>\n",
        "**Saved Model:** [Link](bit.ly/fire-detection-models)"
      ]
    },
    {
      "cell_type": "markdown",
      "metadata": {
        "id": "V7sO_KGluyeb"
      },
      "source": [
        "## Initial Setup"
      ]
    },
    {
      "cell_type": "code",
      "metadata": {
        "colab": {
          "base_uri": "https://localhost:8080/"
        },
        "id": "wvnzaI40tv2l",
        "outputId": "cf606a2f-0637-478a-9391-3bbf14c2bba8"
      },
      "source": [
        "!nvidia-smi"
      ],
      "execution_count": 1,
      "outputs": [
        {
          "output_type": "stream",
          "text": [
            "Fri Apr 30 22:37:55 2021       \n",
            "+-----------------------------------------------------------------------------+\n",
            "| NVIDIA-SMI 465.19.01    Driver Version: 460.32.03    CUDA Version: 11.2     |\n",
            "|-------------------------------+----------------------+----------------------+\n",
            "| GPU  Name        Persistence-M| Bus-Id        Disp.A | Volatile Uncorr. ECC |\n",
            "| Fan  Temp  Perf  Pwr:Usage/Cap|         Memory-Usage | GPU-Util  Compute M. |\n",
            "|                               |                      |               MIG M. |\n",
            "|===============================+======================+======================|\n",
            "|   0  Tesla T4            Off  | 00000000:00:04.0 Off |                    0 |\n",
            "| N/A   37C    P8    10W /  70W |      0MiB / 15109MiB |      0%      Default |\n",
            "|                               |                      |                  N/A |\n",
            "+-------------------------------+----------------------+----------------------+\n",
            "                                                                               \n",
            "+-----------------------------------------------------------------------------+\n",
            "| Processes:                                                                  |\n",
            "|  GPU   GI   CI        PID   Type   Process name                  GPU Memory |\n",
            "|        ID   ID                                                   Usage      |\n",
            "|=============================================================================|\n",
            "|  No running processes found                                                 |\n",
            "+-----------------------------------------------------------------------------+\n"
          ],
          "name": "stdout"
        }
      ]
    },
    {
      "cell_type": "markdown",
      "metadata": {
        "id": "awzqGetGu2HM"
      },
      "source": [
        "## Data Gathering"
      ]
    },
    {
      "cell_type": "code",
      "metadata": {
        "colab": {
          "base_uri": "https://localhost:8080/"
        },
        "id": "KPLEOnq3QB7Q",
        "outputId": "214ac103-596f-4d83-9530-e19435dbb7df"
      },
      "source": [
        "from google.colab import drive\n",
        "drive.mount('/content/gdrive')\n",
        "\n",
        "!unzip -q \"/content/gdrive/My Drive/fire_dataset.zip\""
      ],
      "execution_count": 2,
      "outputs": [
        {
          "output_type": "stream",
          "text": [
            "Mounted at /content/gdrive\n"
          ],
          "name": "stdout"
        }
      ]
    },
    {
      "cell_type": "markdown",
      "metadata": {
        "id": "51X7EAFmwQWl"
      },
      "source": [
        "## Import the Packages"
      ]
    },
    {
      "cell_type": "code",
      "metadata": {
        "colab": {
          "base_uri": "https://localhost:8080/"
        },
        "id": "ZPuNNiI1wFnZ",
        "outputId": "d97d17c3-5a1e-4f9e-85a9-5a8df7ee130b"
      },
      "source": [
        "import tensorflow as tf\n",
        "from imutils import paths\n",
        "from pprint import pprint\n",
        "from collections import Counter\n",
        "from sklearn.preprocessing import LabelEncoder\n",
        "from tensorflow.keras.utils import to_categorical\n",
        "from tensorflow.keras.applications import MobileNetV3Small\n",
        "from tensorflow.keras import mixed_precision\n",
        "from tensorflow.keras.layers import *\n",
        "import matplotlib.pyplot as plt\n",
        "\n",
        "import numpy as np\n",
        "\n",
        "np.random.seed(42)\n",
        "tf.random.set_seed(42)\n",
        "print(tf.__version__)\n",
        "\n",
        "policy = mixed_precision.Policy('mixed_float16')\n",
        "mixed_precision.set_global_policy(policy)"
      ],
      "execution_count": 3,
      "outputs": [
        {
          "output_type": "stream",
          "text": [
            "2.4.1\n",
            "INFO:tensorflow:Mixed precision compatibility check (mixed_float16): OK\n",
            "Your GPU will likely run quickly with dtype policy mixed_float16 as it has compute capability of at least 7.0. Your GPU: Tesla T4, compute capability 7.5\n"
          ],
          "name": "stdout"
        }
      ]
    },
    {
      "cell_type": "markdown",
      "metadata": {
        "id": "IkFSWHRtxc_C"
      },
      "source": [
        "## Data EDA and Parsing"
      ]
    },
    {
      "cell_type": "code",
      "metadata": {
        "colab": {
          "base_uri": "https://localhost:8080/"
        },
        "id": "kNhjeHscxhpl",
        "outputId": "81fd7a08-1399-43ea-a20d-622e4a026360"
      },
      "source": [
        "image_paths = list(paths.list_images(\"fire_dataset\"))\n",
        "np.random.shuffle(image_paths)\n",
        "image_paths[:5]"
      ],
      "execution_count": 4,
      "outputs": [
        {
          "output_type": "execute_result",
          "data": {
            "text/plain": [
              "['fire_dataset/fire_images/fire359.jpg',\n",
              " 'fire_dataset/fire_images/fire352.jpg',\n",
              " 'fire_dataset/non_fire_images/non_fire157.jpg',\n",
              " 'fire_dataset/fire_images/fire217.jpg',\n",
              " 'fire_dataset/fire_images/fire395.jpg']"
            ]
          },
          "metadata": {
            "tags": []
          },
          "execution_count": 4
        }
      ]
    },
    {
      "cell_type": "code",
      "metadata": {
        "colab": {
          "base_uri": "https://localhost:8080/"
        },
        "id": "NYg8C9AyzUg6",
        "outputId": "fb3a03e1-0bcf-401f-bd07-b343c646c20b"
      },
      "source": [
        "labels = []\n",
        "for image_path in image_paths:\n",
        "    label = image_path.split(\"/\")[1]\n",
        "    labels.append(label)\n",
        "class_count = Counter(labels) \n",
        "pprint(class_count)"
      ],
      "execution_count": 5,
      "outputs": [
        {
          "output_type": "stream",
          "text": [
            "Counter({'fire_images': 755, 'non_fire_images': 244})\n"
          ],
          "name": "stdout"
        }
      ]
    },
    {
      "cell_type": "markdown",
      "metadata": {
        "id": "Jt-svKR1z4j9"
      },
      "source": [
        "Imbalanced Dataset"
      ]
    },
    {
      "cell_type": "markdown",
      "metadata": {
        "id": "G7qSCsGvz-vf"
      },
      "source": [
        "## Configure the Hyperparameter"
      ]
    },
    {
      "cell_type": "code",
      "metadata": {
        "id": "yjCsb9TrzcFw"
      },
      "source": [
        "TRAIN_SPLIT = 0.9\n",
        "IMG_SIZE = 224\n",
        "BATCH_SIZE = 64\n",
        "AUTO = tf.data.AUTOTUNE\n",
        "EPOCHS = 100"
      ],
      "execution_count": 6,
      "outputs": []
    },
    {
      "cell_type": "markdown",
      "metadata": {
        "id": "9-eLAcyC0DI4"
      },
      "source": [
        "## Splitting the dataset"
      ]
    },
    {
      "cell_type": "code",
      "metadata": {
        "colab": {
          "base_uri": "https://localhost:8080/"
        },
        "id": "EDn2WkDUzlrf",
        "outputId": "0e8bab0d-eacf-43ab-bbaa-7943d39922e8"
      },
      "source": [
        "i = int(len(image_paths) * TRAIN_SPLIT)\n",
        "\n",
        "train_paths = image_paths[:i]\n",
        "train_labels = labels[:i]\n",
        "validation_paths = image_paths[i:]\n",
        "validation_labels = labels[i:]\n",
        "\n",
        "print(len(train_paths), len(validation_paths))"
      ],
      "execution_count": 7,
      "outputs": [
        {
          "output_type": "stream",
          "text": [
            "899 100\n"
          ],
          "name": "stdout"
        }
      ]
    },
    {
      "cell_type": "markdown",
      "metadata": {
        "id": "rEnhBTB80Fd9"
      },
      "source": [
        "## Labelling the dataset"
      ]
    },
    {
      "cell_type": "code",
      "metadata": {
        "colab": {
          "base_uri": "https://localhost:8080/"
        },
        "id": "euCDXcyr5Pva",
        "outputId": "fe9e0a39-1fcd-4b65-cc8a-12edcca436f5"
      },
      "source": [
        "le = LabelEncoder()\n",
        "train_labels_le = le.fit_transform(train_labels)\n",
        "validation_labels_le = le.transform(validation_labels)\n",
        "print(train_labels_le[:5])"
      ],
      "execution_count": 8,
      "outputs": [
        {
          "output_type": "stream",
          "text": [
            "[0 0 1 0 0]\n"
          ],
          "name": "stdout"
        }
      ]
    },
    {
      "cell_type": "markdown",
      "metadata": {
        "id": "_pOBK_Mm0INh"
      },
      "source": [
        "## Dataloader"
      ]
    },
    {
      "cell_type": "code",
      "metadata": {
        "id": "HT6hEXBBznMb"
      },
      "source": [
        "@tf.function\n",
        "def load_images(image_path, label):\n",
        "    image = tf.io.read_file(image_path)\n",
        "    image = tf.image.decode_image(image, channels=3, expand_animations = False)\n",
        "    image = tf.cast(image, tf.float32)\n",
        "    # No rescaling since MobileNetV3 internally does it\n",
        "    image = tf.image.resize(image, (IMG_SIZE, IMG_SIZE))\n",
        "    return (image, label)\n",
        "\n",
        "data_augmentation = tf.keras.Sequential(\n",
        "    [\n",
        "        tf.keras.layers.experimental.preprocessing.RandomFlip(\"horizontal\"),\n",
        "        tf.keras.layers.experimental.preprocessing.RandomRotation(factor=0.02),\n",
        "        tf.keras.layers.experimental.preprocessing.RandomZoom(\n",
        "            height_factor=0.2, width_factor=0.2\n",
        "        ),\n",
        "    ],\n",
        "    name=\"data_augmentation\",\n",
        ")"
      ],
      "execution_count": 10,
      "outputs": []
    },
    {
      "cell_type": "markdown",
      "metadata": {
        "id": "-ETT9W6l0Kc-"
      },
      "source": [
        "## Convert the data into `TensorFlow Dataset` objects"
      ]
    },
    {
      "cell_type": "code",
      "metadata": {
        "id": "wnl6xkpFzxBV"
      },
      "source": [
        "train_ds = tf.data.Dataset.from_tensor_slices((train_paths, train_labels_le))\n",
        "train_ds = (\n",
        "    train_ds\n",
        "    .shuffle(1024)\n",
        "    .map(load_images, num_parallel_calls=AUTO)\n",
        "    .batch(BATCH_SIZE)\n",
        "    .map(lambda x, y: (data_augmentation(x), y), num_parallel_calls=AUTO)\n",
        "    .prefetch(AUTO)\n",
        ")\n",
        "\n",
        "val_ds = tf.data.Dataset.from_tensor_slices((validation_paths, validation_labels_le))\n",
        "val_ds = (\n",
        "    val_ds\n",
        "    .map(load_images, num_parallel_calls=AUTO)\n",
        "    .batch(BATCH_SIZE)\n",
        "    .prefetch(AUTO)\n",
        ")"
      ],
      "execution_count": 11,
      "outputs": []
    },
    {
      "cell_type": "markdown",
      "metadata": {
        "id": "c0f-clCh3ksS"
      },
      "source": [
        "## Calculate the Classweights"
      ]
    },
    {
      "cell_type": "code",
      "metadata": {
        "id": "9kw935JMz12i"
      },
      "source": [
        "trainLabels = to_categorical(train_labels_le)\n",
        "classTotals = trainLabels.sum(axis=0)\n",
        "classWeight = dict()\n",
        "# loop over all classes and calculate the class weight\n",
        "for i in range(0, len(classTotals)):\n",
        "\tclassWeight[i] = classTotals.max() / classTotals[i]"
      ],
      "execution_count": 12,
      "outputs": []
    },
    {
      "cell_type": "markdown",
      "metadata": {
        "id": "R5rZB1770WfS"
      },
      "source": [
        "## Define the Model"
      ]
    },
    {
      "cell_type": "code",
      "metadata": {
        "id": "AcCcHo90z6Bx"
      },
      "source": [
        "def get_training_model(trainable=False):\n",
        "    # Load the MobileNetV3Small model but exclude the classification layers\n",
        "    EXTRACTOR = MobileNetV3Small(weights=\"imagenet\", include_top=False,\n",
        "                    input_shape=(224, 224, 3))\n",
        "    # We will set it to both True and False\n",
        "    EXTRACTOR.trainable = trainable\n",
        "    # Construct the head of the model that will be placed on top of the\n",
        "    # the base model\n",
        "    class_head = EXTRACTOR.output\n",
        "    class_head = GlobalAveragePooling2D()(class_head)\n",
        "    class_head = Dense(256, activation=\"relu\")(class_head)\n",
        "    class_head = Dropout(0.5)(class_head)\n",
        "    class_head = Dense(1, activation=\"sigmoid\")(class_head)\n",
        "\n",
        "    # Create the new model\n",
        "    classifier = tf.keras.Model(inputs=EXTRACTOR.input, outputs=class_head)\n",
        "\n",
        "    # Compile and return the model\n",
        "    classifier.compile(loss=\"binary_crossentropy\", \n",
        "                          optimizer=\"adam\",\n",
        "                          metrics=[\"accuracy\"])\n",
        "\n",
        "    return classifier"
      ],
      "execution_count": 13,
      "outputs": []
    },
    {
      "cell_type": "markdown",
      "metadata": {
        "id": "gaNA63H00Ypr"
      },
      "source": [
        "## Plot the Model Performance"
      ]
    },
    {
      "cell_type": "code",
      "metadata": {
        "id": "5t_9nXUEz8vX"
      },
      "source": [
        "def plot_hist(hist):\n",
        "    plt.plot(hist.history[\"accuracy\"])\n",
        "    plt.plot(hist.history[\"val_accuracy\"])\n",
        "    plt.plot(hist.history[\"loss\"])\n",
        "    plt.plot(hist.history[\"val_loss\"])\n",
        "    plt.title(\"Training Progress\")\n",
        "    plt.ylabel(\"Accuracy/Loss\")\n",
        "    plt.xlabel(\"Epochs\")\n",
        "    plt.legend([\"train_acc\", \"val_acc\", \"train_loss\", \"val_loss\"], loc=\"upper left\")\n",
        "    plt.show()"
      ],
      "execution_count": 14,
      "outputs": []
    },
    {
      "cell_type": "markdown",
      "metadata": {
        "id": "ViWUIo240cY7"
      },
      "source": [
        "## Setting the callback"
      ]
    },
    {
      "cell_type": "code",
      "metadata": {
        "id": "vADZKFZNz_MA"
      },
      "source": [
        "train_callbacks = [\n",
        "    tf.keras.callbacks.EarlyStopping(patience=3, restore_best_weights=True)\n",
        "]"
      ],
      "execution_count": 16,
      "outputs": []
    },
    {
      "cell_type": "markdown",
      "metadata": {
        "id": "WYdW2wOW0fVC"
      },
      "source": [
        "## Train the `model`"
      ]
    },
    {
      "cell_type": "code",
      "metadata": {
        "colab": {
          "base_uri": "https://localhost:8080/",
          "height": 601
        },
        "id": "nrC3NolB0COc",
        "outputId": "be20dcfc-730e-4d3e-e2b0-3d7ffa50ba32"
      },
      "source": [
        "classifier = get_training_model()\n",
        "h = classifier.fit(train_ds,\n",
        "               validation_data=val_ds,\n",
        "               epochs=EPOCHS,\n",
        "               class_weight=classWeight,\n",
        "               callbacks=train_callbacks)\n",
        "\n",
        "accuracy = classifier.evaluate(val_ds)[1] * 100\n",
        "print(\"Accuracy: {:.2f}%\".format(accuracy))\n",
        "plot_hist(h)"
      ],
      "execution_count": 17,
      "outputs": [
        {
          "output_type": "stream",
          "text": [
            "Downloading data from https://storage.googleapis.com/tensorflow/keras-applications/mobilenet_v3/weights_mobilenet_v3_small_224_1.0_float_no_top.h5\n",
            "6701056/6698480 [==============================] - 0s 0us/step\n",
            "Epoch 1/100\n",
            "15/15 [==============================] - 53s 1s/step - loss: 0.8116 - accuracy: 0.7930 - val_loss: 0.1031 - val_accuracy: 0.9700\n",
            "Epoch 2/100\n",
            "15/15 [==============================] - 25s 2s/step - loss: 0.2561 - accuracy: 0.9365 - val_loss: 0.0910 - val_accuracy: 0.9900\n",
            "Epoch 3/100\n",
            "15/15 [==============================] - 25s 2s/step - loss: 0.1301 - accuracy: 0.9699 - val_loss: 0.0899 - val_accuracy: 0.9900\n",
            "Epoch 4/100\n",
            "15/15 [==============================] - 25s 2s/step - loss: 0.1210 - accuracy: 0.9794 - val_loss: 0.0896 - val_accuracy: 0.9900\n",
            "Epoch 5/100\n",
            "15/15 [==============================] - 24s 1s/step - loss: 0.1030 - accuracy: 0.9731 - val_loss: 0.0900 - val_accuracy: 0.9900\n",
            "Epoch 6/100\n",
            "15/15 [==============================] - 25s 2s/step - loss: 0.1042 - accuracy: 0.9783 - val_loss: 0.0939 - val_accuracy: 0.9600\n",
            "Epoch 7/100\n",
            "15/15 [==============================] - 25s 2s/step - loss: 0.1486 - accuracy: 0.9770 - val_loss: 0.0959 - val_accuracy: 0.9600\n",
            "2/2 [==============================] - 1s 231ms/step - loss: 0.0896 - accuracy: 0.9900\n",
            "Accuracy: 99.00%\n"
          ],
          "name": "stdout"
        },
        {
          "output_type": "display_data",
          "data": {
            "image/png": "[encoded data removed]",
            "text/plain": [
              "<Figure size 432x288 with 1 Axes>"
            ]
          },
          "metadata": {
            "tags": [],
            "needs_background": "light"
          }
        }
      ]
    },
    {
      "cell_type": "markdown",
      "metadata": {
        "id": "uMoObr-70nPJ"
      },
      "source": [
        "## Saving the Model"
      ]
    },
    {
      "cell_type": "code",
      "metadata": {
        "id": "hiGk_bWK5ziP",
        "colab": {
          "base_uri": "https://localhost:8080/"
        },
        "outputId": "f42d9cb7-7ea0-4922-81a8-f969965c930d"
      },
      "source": [
        "classifier.save('mobilenet_v3_fire')\n",
        "classifier.save('mobilenet_v3_fire.h5')"
      ],
      "execution_count": 18,
      "outputs": [
        {
          "output_type": "stream",
          "text": [
            "INFO:tensorflow:Assets written to: mobilenet_v3_fire/assets\n"
          ],
          "name": "stdout"
        }
      ]
    },
    {
      "cell_type": "code",
      "metadata": {
        "colab": {
          "base_uri": "https://localhost:8080/"
        },
        "id": "Dzx_fO4D1qI-",
        "outputId": "48c3ee87-a0e7-44ca-e4b1-4a67530c7c02"
      },
      "source": [
        "!du -lh mobilenet_v3_fire"
      ],
      "execution_count": 19,
      "outputs": [
        {
          "output_type": "stream",
          "text": [
            "4.0K\tmobilenet_v3_fire/assets\n",
            "9.0M\tmobilenet_v3_fire/variables\n",
            "13M\tmobilenet_v3_fire\n"
          ],
          "name": "stdout"
        }
      ]
    },
    {
      "cell_type": "code",
      "metadata": {
        "colab": {
          "base_uri": "https://localhost:8080/"
        },
        "id": "0cPeS_sQ16iY",
        "outputId": "59189f56-d3d6-4927-8142-c2715871f3ec"
      },
      "source": [
        "!tar cvf mobilenet_v3_fire.tar.gz mobilenet_v3_fire mobilenet_v3_fire.h5"
      ],
      "execution_count": 20,
      "outputs": [
        {
          "output_type": "stream",
          "text": [
            "mobilenet_v3_fire/\n",
            "mobilenet_v3_fire/saved_model.pb\n",
            "mobilenet_v3_fire/assets/\n",
            "mobilenet_v3_fire/variables/\n",
            "mobilenet_v3_fire/variables/variables.data-00000-of-00001\n",
            "mobilenet_v3_fire/variables/variables.index\n",
            "mobilenet_v3_fire.h5\n"
          ],
          "name": "stdout"
        }
      ]
    },
    {
      "cell_type": "code",
      "metadata": {
        "id": "4td2_HKs9Yra"
      },
      "source": [
        ""
      ],
      "execution_count": null,
      "outputs": []
    }
  ]
}